{
 "cells": [
  {
   "cell_type": "code",
   "execution_count": 2,
   "id": "f119ae26",
   "metadata": {},
   "outputs": [],
   "source": [
    "from qutip import *\n",
    "import numpy as np"
   ]
  },
  {
   "cell_type": "code",
   "execution_count": 49,
   "id": "867b4db0",
   "metadata": {},
   "outputs": [],
   "source": [
    "#this functions constructs the Hamiltonian for N spin Heisenberg chain\n",
    "#if N = 1, a chain does not make sense therefore it just returns an empty matrix\n",
    "def Hamiltonian(N):\n",
    "\n",
    "    hbar = 1\n",
    "    \n",
    "    SpinMatrices = np.zeros((N,3,2**N,2**N), dtype = \"complex_\")\n",
    "\n",
    "    Sigmas = 0.5*hbar*np.array([sigmax(),sigmay(),sigmaz()])\n",
    "\n",
    "    for i in range(N):\n",
    "        for j in range(3):\n",
    "            SpinMatrices[i][j] = tensor(qeye(2**(N-1-i)), Qobj(Sigmas[j]),qeye(2**i))\n",
    "\n",
    "\n",
    "    LadderOp = np.zeros((N,2,2**N,2**N), dtype = \"complex_\")\n",
    "\n",
    "    for i in range(N):\n",
    "        LadderOp[i][0] = SpinMatrices[i,0] - 1j*SpinMatrices[i,1] #down\n",
    "        LadderOp[i][1] = SpinMatrices[i,0] + 1j*SpinMatrices[i,1] #up\n",
    "\n",
    "    state = ket(N*\"d\")\n",
    "\n",
    "    J = 1\n",
    "\n",
    "    H = J*np.zeros((2**N,2**N), dtype = \"complex_\")\n",
    "\n",
    "    if N == 2:\n",
    "        H = Qobj(SpinMatrices[0,2])*Qobj(SpinMatrices[1,2]) + 0.5*(Qobj(LadderOp[0,0])*Qobj(LadderOp[1,1]) + Qobj(LadderOp[0,1])* Qobj(LadderOp[1,0]))\n",
    "\n",
    "    else:\n",
    "        for i in range(N):\n",
    "\n",
    "            H += np.array(Qobj(SpinMatrices[i%N,2])*Qobj(SpinMatrices[(i+1)%N,2]))\n",
    "            H += 0.5*np.array(Qobj(LadderOp[i%N,0])*Qobj(LadderOp[(i+1)%N,1]))\n",
    "            H += 0.5*np.array(Qobj(LadderOp[i%N,1])*Qobj(LadderOp[(i+1)%N,0]))\n",
    "\n",
    "    dim = [[],[]]\n",
    "\n",
    "    for j in range(N):\n",
    "        dim[0].append(2)\n",
    "        dim[1].append(2)\n",
    "\n",
    "    H = Qobj(H, dims = dim)\n",
    "    \n",
    "    return H\n",
    "\n",
    "#this code returs the diagonalized Hamiltonian, eigenvector matrix and eigenvalues respectively\n",
    "#p.s.: eigenvector matrix and eigenvalue list are ordered i.e. eigenvector in Q[:,i] corresponds to related eigenvalue in EigenValues[i]\n",
    "def NewHamiltonian(N):\n",
    "    \n",
    "    M = Hamiltonian(N)\n",
    "    eig = M.eigenstates()\n",
    "    EigenValues  = eig[0]\n",
    "    EigenVectors = eig[1]\n",
    "    \n",
    "    M = M.full()\n",
    "    \n",
    "    Q = np.zeros((len(M),len(M)), dtype = 'complex_')\n",
    "    \n",
    "    for i in range(len(EigenVectors)):\n",
    "        \n",
    "        Q[:,i] = EigenVectors[i].full()[:,0]\n",
    "       \n",
    "    Qinv = np.linalg.inv(Q)\n",
    "    \n",
    "    NewHamiltonian = np.matmul(np.matmul(Qinv,M),Q)\n",
    "                \n",
    "    ChangeOfBasis = Qinv\n",
    "           \n",
    "    #NewHamiltonian = np.round(NewHamiltonian,10)\n",
    "    NewHamiltonian = Qobj(NewHamiltonian).tidyup().full()\n",
    "    \n",
    "    dim = [[],[]]\n",
    "    \n",
    "    for i in range(N):\n",
    "        dim[0].append(2)\n",
    "        dim[1].append(2)\n",
    "    \n",
    "    NewHamiltonian = Qobj(NewHamiltonian, dims = dim)\n",
    "    Q = Qobj(Q, dims = dim)\n",
    "    \n",
    "    return NewHamiltonian, Q, EigenValues\n",
    "\n",
    "#This function return the lowest energy eigenvalue\n",
    "#If there multiple, then returns all of them, for example N = 3\n",
    "def MinEnergyEigenvector(N):\n",
    "    \n",
    "    M = Hamiltonian(N)\n",
    "    \n",
    "    N\n",
    "    \n",
    "    eigenvalues = np.round(np.diag(NewHamiltonian(N)[0]),5)\n",
    "    \n",
    "    lowest = min(eigenvalues)\n",
    "    \n",
    "    indexes = [i for i, x in enumerate(eigenvalues) if x == lowest]\n",
    "    \n",
    "    M = Qobj(M)\n",
    "    R = np.zeros((len(M.full()),len(indexes)), dtype = 'complex_')\n",
    "    \n",
    "    for i in range(len(indexes)):\n",
    "        R[:,i] = np.array(NewHamiltonian(N)[1])[:,indexes[i]]\n",
    "\n",
    "    dim = [[],[]]\n",
    "    \n",
    "    for i in range(N):\n",
    "        dim[0].append(2)\n",
    "        dim[1].append(2)\n",
    "        \n",
    "    R = Qobj(R, dims = dim)\n",
    "    \n",
    "    return R"
   ]
  },
  {
   "cell_type": "code",
   "execution_count": 40,
   "id": "6badf869",
   "metadata": {},
   "outputs": [
    {
     "data": {
      "text/latex": [
       "Quantum object: dims = [[2, 2], [2, 2]], shape = (4, 4), type = oper, isherm = True\\begin{equation*}\\left(\\begin{array}{*{11}c}0.250 & 0.0 & 0.0 & 0.0\\\\0.0 & -0.250 & 0.500 & 0.0\\\\0.0 & 0.500 & -0.250 & 0.0\\\\0.0 & 0.0 & 0.0 & 0.250\\\\\\end{array}\\right)\\end{equation*}"
      ],
      "text/plain": [
       "Quantum object: dims = [[2, 2], [2, 2]], shape = (4, 4), type = oper, isherm = True\n",
       "Qobj data =\n",
       "[[ 0.25  0.    0.    0.  ]\n",
       " [ 0.   -0.25  0.5   0.  ]\n",
       " [ 0.    0.5  -0.25  0.  ]\n",
       " [ 0.    0.    0.    0.25]]"
      ]
     },
     "execution_count": 40,
     "metadata": {},
     "output_type": "execute_result"
    }
   ],
   "source": [
    "Hamiltonian(2)"
   ]
  },
  {
   "cell_type": "code",
   "execution_count": 41,
   "id": "e981d7d7",
   "metadata": {},
   "outputs": [
    {
     "data": {
      "text/latex": [
       "Quantum object: dims = [[2, 2], [2, 2]], shape = (4, 4), type = oper, isherm = True\\begin{equation*}\\left(\\begin{array}{*{11}c}-0.750 & 0.0 & 0.0 & 0.0\\\\0.0 & 0.250 & 0.0 & 0.0\\\\0.0 & 0.0 & 0.250 & 0.0\\\\0.0 & 0.0 & 0.0 & 0.250\\\\\\end{array}\\right)\\end{equation*}"
      ],
      "text/plain": [
       "Quantum object: dims = [[2, 2], [2, 2]], shape = (4, 4), type = oper, isherm = True\n",
       "Qobj data =\n",
       "[[-0.75  0.    0.    0.  ]\n",
       " [ 0.    0.25  0.    0.  ]\n",
       " [ 0.    0.    0.25  0.  ]\n",
       " [ 0.    0.    0.    0.25]]"
      ]
     },
     "execution_count": 41,
     "metadata": {},
     "output_type": "execute_result"
    }
   ],
   "source": [
    "NewHamiltonian(2)[0]"
   ]
  },
  {
   "cell_type": "code",
   "execution_count": 42,
   "id": "87c7ec13",
   "metadata": {},
   "outputs": [
    {
     "data": {
      "text/latex": [
       "Quantum object: dims = [[2, 2], [2, 2]], shape = (4, 4), type = oper, isherm = False\\begin{equation*}\\left(\\begin{array}{*{11}c}0.0 & 1.0 & 0.0 & 0.0\\\\0.707 & 0.0 & 0.707 & 0.0\\\\-0.707 & 0.0 & 0.707 & 0.0\\\\0.0 & 0.0 & 0.0 & 1.0\\\\\\end{array}\\right)\\end{equation*}"
      ],
      "text/plain": [
       "Quantum object: dims = [[2, 2], [2, 2]], shape = (4, 4), type = oper, isherm = False\n",
       "Qobj data =\n",
       "[[ 0.          1.          0.          0.        ]\n",
       " [ 0.70710678  0.          0.70710678  0.        ]\n",
       " [-0.70710678  0.          0.70710678  0.        ]\n",
       " [ 0.          0.          0.          1.        ]]"
      ]
     },
     "execution_count": 42,
     "metadata": {},
     "output_type": "execute_result"
    }
   ],
   "source": [
    "NewHamiltonian(2)[1]"
   ]
  },
  {
   "cell_type": "code",
   "execution_count": 54,
   "id": "e4bcfb2b",
   "metadata": {},
   "outputs": [
    {
     "data": {
      "text/plain": [
       "array([-0.75,  0.25,  0.25,  0.25])"
      ]
     },
     "execution_count": 54,
     "metadata": {},
     "output_type": "execute_result"
    }
   ],
   "source": [
    "NewHamiltonian(2)[2]"
   ]
  },
  {
   "cell_type": "code",
   "execution_count": 57,
   "id": "50003fee",
   "metadata": {},
   "outputs": [
    {
     "data": {
      "text/latex": [
       "Quantum object: dims = [[2, 2], [2, 2]], shape = (4, 1), type = oper, isherm = False\\begin{equation*}\\left(\\begin{array}{*{11}c}0.0\\\\0.707\\\\-0.707\\\\0.0\\\\\\end{array}\\right)\\end{equation*}"
      ],
      "text/plain": [
       "Quantum object: dims = [[2, 2], [2, 2]], shape = (4, 1), type = oper, isherm = False\n",
       "Qobj data =\n",
       "[[ 0.        ]\n",
       " [ 0.70710678]\n",
       " [-0.70710678]\n",
       " [ 0.        ]]"
      ]
     },
     "execution_count": 57,
     "metadata": {},
     "output_type": "execute_result"
    }
   ],
   "source": [
    "MinEnergyEigenvector(2)"
   ]
  }
 ],
 "metadata": {
  "kernelspec": {
   "display_name": "Python 3 (ipykernel)",
   "language": "python",
   "name": "python3"
  },
  "language_info": {
   "codemirror_mode": {
    "name": "ipython",
    "version": 3
   },
   "file_extension": ".py",
   "mimetype": "text/x-python",
   "name": "python",
   "nbconvert_exporter": "python",
   "pygments_lexer": "ipython3",
   "version": "3.8.3"
  }
 },
 "nbformat": 4,
 "nbformat_minor": 5
}
